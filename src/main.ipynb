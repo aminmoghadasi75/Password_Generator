{
 "cells": [
  {
   "cell_type": "markdown",
   "metadata": {},
   "source": [
    "- Parent class : PasswordGenerator\n",
    "    - Abstrac\n",
    "    - Methods: __init__, generate\n",
    "- RandomPassword\n",
    "- MemorablePassword\n",
    "- PinPassword"
   ]
  },
  {
   "cell_type": "code",
   "execution_count": 96,
   "metadata": {},
   "outputs": [],
   "source": [
    "from abc import ABC,abstractclassmethod\n",
    "\n",
    "\n",
    "class PasswordGenerator(ABC):\n",
    "\n",
    "    @abstractclassmethod\n",
    "    def generate(self):\n",
    "        pass"
   ]
  },
  {
   "cell_type": "code",
   "execution_count": 97,
   "metadata": {},
   "outputs": [],
   "source": [
    "import numpy as np\n",
    "\n",
    "\n",
    "class PinPassword(PasswordGenerator):\n",
    "\n",
    "    def __init__(self, length: int = 8):\n",
    "        self.length = length\n",
    "\n",
    "    def generate(self):\n",
    "        return int(''.join(map(str,np.random.randint(0, 10, size= self.length))))"
   ]
  },
  {
   "cell_type": "code",
   "execution_count": 98,
   "metadata": {},
   "outputs": [],
   "source": [
    "import string\n",
    "import random\n",
    "\n",
    "\n",
    "class RandomPassword(PasswordGenerator):\n",
    "\n",
    "    def __init__(self, length: int = 8, *, include_numbers: bool = False , include_symbols: bool = False):\n",
    "        self.length = length\n",
    "        self.characters = string.ascii_letters\n",
    "        if include_numbers :\n",
    "            self.characters += string.digits\n",
    "        if include_symbols :\n",
    "            self.characters += string.punctuation\n",
    "\n",
    "    def generate(self):\n",
    "            return ''.join(random.choices(population=self.characters, k=self.length))"
   ]
  },
  {
   "cell_type": "code",
   "execution_count": 99,
   "metadata": {},
   "outputs": [],
   "source": [
    "class MemorablePassword(PasswordGenerator):\n",
    "\n",
    "    def __init__(self ,\n",
    "                num_of_words: int  = 4,\n",
    "                separator: str = '_',\n",
    "                capitalization: bool = False,\n",
    "                vocabs : list = None ) :\n",
    "        self.words = num_of_words\n",
    "        self.separator = separator\n",
    "        self.capitalize = capitalization\n",
    "        self.vocabs = vocabs\n",
    "        if self.vocabs == None :\n",
    "            self.vocabs = nltk.corpus.words.words()\n",
    "\n",
    "    def generate(self) :\n",
    "        words = self.vocabs\n",
    "        if self.capitalize :\n",
    "            return f'{self.separator}'.join(list(map(lambda x : x.capitalize(), random.choices(population=words,k=self.words))))\n",
    "        else :\n",
    "            return f'{self.separator}'.join(random.choices(population=words,k=self.words))"
   ]
  },
  {
   "cell_type": "code",
   "execution_count": 100,
   "metadata": {},
   "outputs": [
    {
     "data": {
      "text/plain": [
       "'Fervently,Nonacceleration,Nympholeptic,Sulpharseniate'"
      ]
     },
     "execution_count": 100,
     "metadata": {},
     "output_type": "execute_result"
    }
   ],
   "source": [
    "mem_pass = MemorablePassword(num_of_words=4,separator=',',capitalization=True)\n",
    "mem_pass.generate()"
   ]
  },
  {
   "cell_type": "code",
   "execution_count": 101,
   "metadata": {},
   "outputs": [],
   "source": [
    "import nltk"
   ]
  },
  {
   "cell_type": "code",
   "execution_count": 103,
   "metadata": {},
   "outputs": [
    {
     "data": {
      "text/plain": [
       "'hasan_ali_amin_amin'"
      ]
     },
     "execution_count": 103,
     "metadata": {},
     "output_type": "execute_result"
    }
   ],
   "source": [
    "mem_pass = MemorablePassword(vocabs=['amin','ali','hasan'])\n",
    "mem_pass.generate()"
   ]
  },
  {
   "cell_type": "code",
   "execution_count": null,
   "metadata": {},
   "outputs": [],
   "source": []
  },
  {
   "cell_type": "code",
   "execution_count": 115,
   "metadata": {},
   "outputs": [
    {
     "data": {
      "text/plain": [
       "[None, None, None, None, None]"
      ]
     },
     "execution_count": 115,
     "metadata": {},
     "output_type": "execute_result"
    }
   ],
   "source": [
    "x = 12345\n",
    "x_l = [x_l.append(i) for i in str(x)]\n",
    "x_l\n"
   ]
  },
  {
   "cell_type": "code",
   "execution_count": 1,
   "metadata": {},
   "outputs": [
    {
     "data": {
      "text/plain": [
       "['amin', 'ali', 'akbar']"
      ]
     },
     "execution_count": 1,
     "metadata": {},
     "output_type": "execute_result"
    }
   ],
   "source": [
    "x = 'amin_ali_akbar'\n",
    "x.split('_')"
   ]
  },
  {
   "cell_type": "code",
   "execution_count": 1,
   "metadata": {},
   "outputs": [],
   "source": [
    "import streamlit as st"
   ]
  },
  {
   "cell_type": "code",
   "execution_count": null,
   "metadata": {},
   "outputs": [],
   "source": []
  }
 ],
 "metadata": {
  "kernelspec": {
   "display_name": "machine_learning",
   "language": "python",
   "name": "python3"
  },
  "language_info": {
   "codemirror_mode": {
    "name": "ipython",
    "version": 3
   },
   "file_extension": ".py",
   "mimetype": "text/x-python",
   "name": "python",
   "nbconvert_exporter": "python",
   "pygments_lexer": "ipython3",
   "version": "3.10.13"
  }
 },
 "nbformat": 4,
 "nbformat_minor": 2
}
